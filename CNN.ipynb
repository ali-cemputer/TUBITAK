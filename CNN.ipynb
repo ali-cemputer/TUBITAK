{
 "cells": [
  {
   "metadata": {
    "ExecuteTime": {
     "end_time": "2025-04-22T14:55:02.576580Z",
     "start_time": "2025-04-22T14:55:02.560094Z"
    }
   },
   "cell_type": "code",
   "source": [
    "import importlib\n",
    "import utils\n",
    "importlib.reload(utils)\n",
    "import pandas as pd\n",
    "import tensorflow as tf\n",
    "tf.test.is_built_with_cuda()#GPU aktif mi?"
   ],
   "id": "1a79acbd07563f52",
   "outputs": [
    {
     "data": {
      "text/plain": [
       "True"
      ]
     },
     "execution_count": 13,
     "metadata": {},
     "output_type": "execute_result"
    }
   ],
   "execution_count": 13
  },
  {
   "metadata": {
    "ExecuteTime": {
     "end_time": "2025-04-22T14:40:13.662452Z",
     "start_time": "2025-04-22T14:40:13.644274Z"
    }
   },
   "cell_type": "code",
   "source": [
    "print(\"TensorFlow version:\", tf.__version__)\n",
    "print(\"GPU Build Info:\", tf.sysconfig.get_build_info())\n",
    "print(\"GPU Devices:\", tf.config.list_physical_devices('GPU'))\n",
    "\n",
    "# Bellek optimizasyonu (GPU kullanımı için)\n",
    "gpus = tf.config.experimental.list_physical_devices('GPU')\n",
    "if gpus:\n",
    "    try:\n",
    "        # Bellek büyümesini sınırla\n",
    "        for gpu in gpus:\n",
    "            tf.config.experimental.set_memory_growth(gpu, True)#TensorFlow’un başlangıçta minimum bellek tahsis etmesini ve yalnızca gerektiğinde bellek kullanmasını sağlar.\n",
    "    except RuntimeError as e:\n",
    "        print(e)"
   ],
   "id": "ebc5754e90625a19",
   "outputs": [
    {
     "name": "stdout",
     "output_type": "stream",
     "text": [
      "TensorFlow version: 2.10.0\n",
      "GPU Build Info: OrderedDict([('cpu_compiler', 'C:/Program Files (x86)/Microsoft Visual Studio/2019/Community/VC/Tools/MSVC/14.29.30133/bin/HostX64/x64/cl.exe'), ('cuda_compute_capabilities', ['sm_35', 'sm_50', 'sm_60', 'sm_70', 'sm_75', 'compute_80']), ('cuda_version', '64_112'), ('cudart_dll_name', 'cudart64_112.dll'), ('cudnn_dll_name', 'cudnn64_8.dll'), ('cudnn_version', '64_8'), ('is_cuda_build', True), ('is_rocm_build', False), ('is_tensorrt_build', False), ('msvcp_dll_names', 'msvcp140.dll,msvcp140_1.dll'), ('nvcuda_dll_name', 'nvcuda.dll')])\n",
      "GPU Devices: [PhysicalDevice(name='/physical_device:GPU:0', device_type='GPU')]\n"
     ]
    }
   ],
   "execution_count": 7
  },
  {
   "metadata": {
    "ExecuteTime": {
     "end_time": "2025-04-22T14:42:01.780041Z",
     "start_time": "2025-04-22T14:42:01.764848Z"
    }
   },
   "cell_type": "code",
   "source": [
    "#Output konsol ayarlamaları\n",
    "pd.set_option('display.max_columns', None)# Tüm sütunları göster\n",
    "pd.set_option('display.max_rows', None)# Tüm satırları göster\n",
    "pd.set_option('display.max_colwidth', None)# Tüm sütun içeriğini gösterir.\n",
    "pd.set_option(\"display.float_format\", lambda x: '%.3f' % x)# ondalıklı sayıları 3 basamaklı şekilde kısaltır.\n",
    "pd.set_option('display.width', 5000)# DataFrame oto. alta geçmesin tek satırda gösterilsin diye. 5000 karakter hakkı vardır."
   ],
   "id": "31a82c0303724e5a",
   "outputs": [],
   "execution_count": 9
  },
  {
   "metadata": {
    "ExecuteTime": {
     "end_time": "2025-04-22T14:43:39.380645Z",
     "start_time": "2025-04-22T14:43:39.370643Z"
    }
   },
   "cell_type": "code",
   "source": [
    "IMG_SIZE = (224, 224)   # Güncellenmiş boyut\n",
    "BATCH_SIZE = 32 # Her iterasyonda işlenecek olan gruplandırılmış görüntü sayısıdır.\n",
    "EPOCHS = 30 # Modelin veriyi kaç defa işleyecek\n",
    "BASE_PATH = \"../TUBITAK/datasets/CSV_Multi_Label_Classification\""
   ],
   "id": "a7ac263981c50fc6",
   "outputs": [],
   "execution_count": 10
  },
  {
   "metadata": {
    "ExecuteTime": {
     "end_time": "2025-04-22T15:06:19.087444Z",
     "start_time": "2025-04-22T15:06:18.951146Z"
    }
   },
   "cell_type": "code",
   "source": [
    "#Veri Setleri Dağılımı ve Eğitim Seti İçeriği\n",
    "train_df = utils.load_data('train')\n",
    "valid_df = utils.load_data('valid')\n",
    "test_df = utils.load_data('test')\n",
    "\n",
    "print(f\"Train set: {len(train_df)} image\")\n",
    "print(f\"Validation set: {len(valid_df)} image\")\n",
    "print(f\"Test set: {len(test_df)} image\")\n",
    "\n",
    "# Etiket dağılımını kontrol et\n",
    "print(\"Data sütunları:\", train_df.columns.tolist())\n",
    "print(\"\\nEğitim seti etiket dağılımı:\")\n",
    "print(\"Moderate Accident:\", train_df['moderate'].sum())\n",
    "print(\"Severe Accident:\", train_df['severe'].sum())\n",
    "print(\"No Accident:\", train_df['no_accident'].sum())\n",
    "print(\"Multi-label (Moderate & Severe):\", ((train_df['moderate'] == 1) & (train_df['severe'] == 1)).sum())\n",
    "\n",
    "# Tensorflow Dataset'leri oluştur\n",
    "train_dataset = utils.create_dataset(train_df)\n",
    "valid_dataset = utils.create_dataset(valid_df)\n",
    "test_dataset = utils.create_dataset(test_df)\n",
    "\n",
    "print(\"\\nİlk birkaç satır:\")\n",
    "train_df.head()"
   ],
   "id": "dfabd9a2c4523d19",
   "outputs": [
    {
     "name": "stdout",
     "output_type": "stream",
     "text": [
      "Train set: 10469 image\n",
      "Validation set: 1004 image\n",
      "Test set: 649 image\n",
      "Data sütunları: ['filename', 'moderate', 'severe', 'no_accident']\n",
      "\n",
      "Eğitim seti etiket dağılımı:\n",
      "Moderate Accident: 3402\n",
      "Severe Accident: 6853\n",
      "No Accident: 259\n",
      "Multi-label (Moderate & Severe): 45\n",
      "\n",
      "İlk birkaç satır:\n"
     ]
    },
    {
     "data": {
      "text/plain": [
       "                                                                                                                  filename  moderate  severe  no_accident\n",
       "0       ../TUBITAK/datasets/CSV_Multi_Label_Classification\\train\\FLIP_CAR_V160_jpg.rf.38d0202f0df2947477b997dc3386e988.jpg         1       1            0\n",
       "1           ../TUBITAK/datasets/CSV_Multi_Label_Classification\\train\\images-18_jpg.rf.3891ad2ae29961a8d9e95f1900286b9e.jpg         0       1            0\n",
       "2            ../TUBITAK/datasets/CSV_Multi_Label_Classification\\train\\images-3_jpg.rf.390be461aa11e350bf6d77d460424853.jpg         0       1            0\n",
       "3  ../TUBITAK/datasets/CSV_Multi_Label_Classification\\train\\severityV3_24_jpeg_jpg.rf.388f61747f536c0e3eeba7090719cf72.jpg         0       1            0\n",
       "4   ../TUBITAK/datasets/CSV_Multi_Label_Classification\\train\\accidentFrame3008_jpg.rf.38dba20c29c95c8fa02b82586a341ff2.jpg         1       0            0"
      ],
      "text/html": [
       "<div>\n",
       "<style scoped>\n",
       "    .dataframe tbody tr th:only-of-type {\n",
       "        vertical-align: middle;\n",
       "    }\n",
       "\n",
       "    .dataframe tbody tr th {\n",
       "        vertical-align: top;\n",
       "    }\n",
       "\n",
       "    .dataframe thead th {\n",
       "        text-align: right;\n",
       "    }\n",
       "</style>\n",
       "<table border=\"1\" class=\"dataframe\">\n",
       "  <thead>\n",
       "    <tr style=\"text-align: right;\">\n",
       "      <th></th>\n",
       "      <th>filename</th>\n",
       "      <th>moderate</th>\n",
       "      <th>severe</th>\n",
       "      <th>no_accident</th>\n",
       "    </tr>\n",
       "  </thead>\n",
       "  <tbody>\n",
       "    <tr>\n",
       "      <th>0</th>\n",
       "      <td>../TUBITAK/datasets/CSV_Multi_Label_Classification\\train\\FLIP_CAR_V160_jpg.rf.38d0202f0df2947477b997dc3386e988.jpg</td>\n",
       "      <td>1</td>\n",
       "      <td>1</td>\n",
       "      <td>0</td>\n",
       "    </tr>\n",
       "    <tr>\n",
       "      <th>1</th>\n",
       "      <td>../TUBITAK/datasets/CSV_Multi_Label_Classification\\train\\images-18_jpg.rf.3891ad2ae29961a8d9e95f1900286b9e.jpg</td>\n",
       "      <td>0</td>\n",
       "      <td>1</td>\n",
       "      <td>0</td>\n",
       "    </tr>\n",
       "    <tr>\n",
       "      <th>2</th>\n",
       "      <td>../TUBITAK/datasets/CSV_Multi_Label_Classification\\train\\images-3_jpg.rf.390be461aa11e350bf6d77d460424853.jpg</td>\n",
       "      <td>0</td>\n",
       "      <td>1</td>\n",
       "      <td>0</td>\n",
       "    </tr>\n",
       "    <tr>\n",
       "      <th>3</th>\n",
       "      <td>../TUBITAK/datasets/CSV_Multi_Label_Classification\\train\\severityV3_24_jpeg_jpg.rf.388f61747f536c0e3eeba7090719cf72.jpg</td>\n",
       "      <td>0</td>\n",
       "      <td>1</td>\n",
       "      <td>0</td>\n",
       "    </tr>\n",
       "    <tr>\n",
       "      <th>4</th>\n",
       "      <td>../TUBITAK/datasets/CSV_Multi_Label_Classification\\train\\accidentFrame3008_jpg.rf.38dba20c29c95c8fa02b82586a341ff2.jpg</td>\n",
       "      <td>1</td>\n",
       "      <td>0</td>\n",
       "      <td>0</td>\n",
       "    </tr>\n",
       "  </tbody>\n",
       "</table>\n",
       "</div>"
      ]
     },
     "execution_count": 26,
     "metadata": {},
     "output_type": "execute_result"
    }
   ],
   "execution_count": 26
  }
 ],
 "metadata": {
  "kernelspec": {
   "name": "python3",
   "language": "python",
   "display_name": "Python 3 (ipykernel)"
  }
 },
 "nbformat": 5,
 "nbformat_minor": 9
}
